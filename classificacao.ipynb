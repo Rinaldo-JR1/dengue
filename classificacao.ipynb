{
  "cells": [
    {
      "cell_type": "markdown",
      "metadata": {
        "id": "GGqxumJG1uxX"
      },
      "source": [
        "# Importação de dependencias"
      ]
    },
    {
      "cell_type": "code",
      "execution_count": null,
      "metadata": {
        "id": "OOPASL6E1y_H"
      },
      "outputs": [],
      "source": [
        "import pandas as pd\n",
        "import seaborn as sns\n",
        "import plotly.express as px\n",
        "from sklearn.metrics import confusion_matrix, ConfusionMatrixDisplay\n",
        "import matplotlib.pyplot as plt\n",
        "from sklearn.model_selection import train_test_split\n",
        "from sklearn.tree import DecisionTreeClassifier\n",
        "from sklearn import metrics\n",
        "import joblib\n",
        "from sklearn.ensemble import RandomForestClassifier\n",
        "from sklearn.neighbors import KNeighborsClassifier\n",
        "from sklearn.metrics import classification_report\n",
        "import numpy as np"
      ]
    },
    {
      "cell_type": "markdown",
      "metadata": {
        "id": "Th6ysQ_414DT"
      },
      "source": [
        "# Obter dados através da api da Info Dengue\n",
        "Documentação: [Tutorial da API](https://info.dengue.mat.br/services/tutorial/Python)\n"
      ]
    },
    {
      "cell_type": "code",
      "execution_count": null,
      "metadata": {
        "id": "AHC_B66C13Zf"
      },
      "outputs": [],
      "source": [
        "url = \"https://info.dengue.mat.br/api/alertcity\"\n",
        "geocode = 2304400\n",
        "disease = \"dengue\"\n",
        "format = \"csv\"\n",
        "ew_start = 1\n",
        "ew_end = 53\n",
        "ey_start = 2015\n",
        "ey_end = 2024\n",
        "\n",
        "params =(\n",
        "    \"&disease=\"\n",
        "    + f\"{disease}\"\n",
        "    + \"&geocode=\"\n",
        "    + f\"{geocode}\"\n",
        "    + \"&disease=\"\n",
        "    + f\"{disease}\"\n",
        "    + \"&format=\"\n",
        "    + f\"{format}\"\n",
        "    + \"&ew_start=\"\n",
        "    + f\"{ew_start}\"\n",
        "    + \"&ew_end=\"\n",
        "    + f\"{ew_end}\"\n",
        "    + \"&ey_start=\"\n",
        "    + f\"{ey_start}\"\n",
        "    + \"&ey_end=\"\n",
        "    + f\"{ey_end}\"\n",
        ")\n",
        "\n",
        "url_resp = \"?\".join([url, params])\n",
        "url_resp"
      ]
    },
    {
      "cell_type": "markdown",
      "metadata": {
        "id": "BCT1czxs2TxL"
      },
      "source": [
        "# Ler os dados metereologicos pelo site INMET (Instituto nacional de metereologia)\n",
        "[Link](https://portal.inmet.gov.br/dadoshistoricos)"
      ]
    },
    {
      "cell_type": "code",
      "execution_count": null,
      "metadata": {
        "id": "mkYT4Dxo3eSu"
      },
      "outputs": [],
      "source": [
        "df = pd.read_csv('./data/FORTALEZA_2015_2024.CSV', encoding='latin1' ,sep=\";\", decimal=',')"
      ]
    },
    {
      "cell_type": "markdown",
      "metadata": {
        "id": "rURfc6YD5YrS"
      },
      "source": [
        "## Limpeza e tratamento de dados"
      ]
    },
    {
      "cell_type": "markdown",
      "metadata": {},
      "source": [
        "### Substituindo -9999 por np.nan em todo o DataFrame\n",
        "\n"
      ]
    },
    {
      "cell_type": "code",
      "execution_count": null,
      "metadata": {
        "id": "DYYV3njN4mk1"
      },
      "outputs": [],
      "source": [
        "df = df.replace(-9999, np.nan)"
      ]
    },
    {
      "cell_type": "markdown",
      "metadata": {
        "id": "cjEqS_RY5TPy"
      },
      "source": [
        "### Formatar Data e criamos uma ramificação só pegando os valores Mensal\n"
      ]
    },
    {
      "cell_type": "code",
      "execution_count": null,
      "metadata": {
        "id": "YG1_8slC5R8R"
      },
      "outputs": [],
      "source": [
        "df['Data'] = pd.to_datetime(df['Data'],format='%d/%m/%Y')\n",
        "df.set_index('Data', inplace=True)"
      ]
    },
    {
      "cell_type": "markdown",
      "metadata": {
        "id": "fwCr-LKJ5ulJ"
      },
      "source": [
        "#### Condições"
      ]
    },
    {
      "cell_type": "code",
      "execution_count": null,
      "metadata": {
        "id": "vQ6aAHtk7DEx"
      },
      "outputs": [],
      "source": [
        "condicoes={'PRECIPITAÇÃO TOTAL, HORÁRIO (mm)':\"sum\",\n",
        "'PRESSAO ATMOSFERICA AO NIVEL DA ESTACAO, HORARIA (mB)':\"mean\",\n",
        "'PRESSÃO ATMOSFERICA MAX.NA HORA ANT. (AUT) (mB)':\"mean\",\n",
        "'PRESSÃO ATMOSFERICA MIN. NA HORA ANT. (AUT) (mB)':\"mean\",\n",
        "'TEMPERATURA DO AR - BULBO SECO, HORARIA (°C)':\"mean\",\n",
        "'TEMPERATURA DO PONTO DE ORVALHO (°C)':\"mean\",\n",
        "'TEMPERATURA MÁXIMA NA HORA ANT. (AUT) (°C)':\"mean\",\n",
        "'TEMPERATURA MÍNIMA NA HORA ANT. (AUT) (°C)':\"mean\",\n",
        "'TEMPERATURA ORVALHO MAX. NA HORA ANT. (AUT) (°C)':\"mean\",\n",
        "'TEMPERATURA ORVALHO MIN. NA HORA ANT. (AUT) (°C)':\"mean\",\n",
        "'UMIDADE REL. MAX. NA HORA ANT. (AUT) (%)':\"mean\",\n",
        "'UMIDADE REL. MIN. NA HORA ANT. (AUT) (%)':\"mean\",\n",
        "}\n"
      ]
    },
    {
      "cell_type": "markdown",
      "metadata": {
        "id": "KAHixDo77U83"
      },
      "source": [
        "#### Agrupar o dataframe com suas condições"
      ]
    },
    {
      "cell_type": "code",
      "execution_count": null,
      "metadata": {},
      "outputs": [],
      "source": [
        "df1 = df1.resample('W').agg(condicoes)"
      ]
    },
    {
      "cell_type": "markdown",
      "metadata": {
        "id": "dLYyH_Zp7OIf"
      },
      "source": [
        "#### Colunas para remover"
      ]
    },
    {
      "cell_type": "code",
      "execution_count": null,
      "metadata": {
        "id": "nvEUWlG27IzI"
      },
      "outputs": [],
      "source": [
        "columns_to_drop_mensal_sem_vento = ['Hora UTC', 'RADIACAO GLOBAL (Kj/m²)',\n",
        "                   'UMIDADE RELATIVA DO AR, HORARIA (%)',\n",
        "                   'VENTO, DIREÇÃO HORARIA (gr) (° (gr))',\n",
        "                   'VENTO, RAJADA MAXIMA (m/s)', 'VENTO, VELOCIDADE HORARIA (m/s)']\n",
        "df1 = df.copy()"
      ]
    },
    {
      "cell_type": "markdown",
      "metadata": {
        "id": "R8yObtKTlHSs"
      },
      "source": [
        "#### Arredondamento"
      ]
    },
    {
      "cell_type": "code",
      "execution_count": null,
      "metadata": {
        "id": "jrgsjsDNlJ5i"
      },
      "outputs": [],
      "source": [
        "for coluna in df1.columns:\n",
        "  df1[coluna]=df1[coluna].round(2)"
      ]
    },
    {
      "cell_type": "code",
      "execution_count": null,
      "metadata": {
        "id": "Y0h1-iCflNnE"
      },
      "outputs": [],
      "source": [
        "df1['data_iniSE']=df1.index"
      ]
    },
    {
      "cell_type": "markdown",
      "metadata": {},
      "source": [
        "### Transformar as datas em string"
      ]
    },
    {
      "cell_type": "code",
      "execution_count": null,
      "metadata": {
        "id": "ctLFVqpalPPk"
      },
      "outputs": [],
      "source": [
        "df1['data_iniSE']=df1['data_iniSE'].astype(str)"
      ]
    },
    {
      "cell_type": "markdown",
      "metadata": {
        "id": "xx4OwuLs432d"
      },
      "source": [
        "# Obter informações sobre o DataFrame"
      ]
    },
    {
      "cell_type": "code",
      "execution_count": null,
      "metadata": {
        "id": "iEj01ZlU3nVF"
      },
      "outputs": [],
      "source": [
        "df1.head()"
      ]
    },
    {
      "cell_type": "code",
      "execution_count": null,
      "metadata": {
        "id": "uiNtNx_f3qB8"
      },
      "outputs": [],
      "source": [
        "df1.info()"
      ]
    },
    {
      "cell_type": "markdown",
      "metadata": {
        "id": "iEccBTyW4-_7"
      },
      "source": []
    },
    {
      "cell_type": "code",
      "execution_count": null,
      "metadata": {
        "id": "6ZMC4XGMlSv8"
      },
      "outputs": [],
      "source": [
        "df1.columns"
      ]
    },
    {
      "cell_type": "markdown",
      "metadata": {},
      "source": [
        "# Realizar o cruzamento dos dados e limpeza dos dados"
      ]
    },
    {
      "cell_type": "code",
      "execution_count": null,
      "metadata": {},
      "outputs": [],
      "source": [
        "cruzamento_dados=df1.merge(dados[['data_iniSE','nivel', 'casos','umidmax', 'tempmax',]],on='data_iniSE',how='left')"
      ]
    },
    {
      "cell_type": "code",
      "execution_count": null,
      "metadata": {},
      "outputs": [],
      "source": [
        "cruzamento_dados.dropna(inplace=True)"
      ]
    },
    {
      "cell_type": "code",
      "execution_count": null,
      "metadata": {},
      "outputs": [],
      "source": [
        "cruzamento_dados['data_iniSE'] = pd.to_datetime(cruzamento_dados['data_iniSE'],format='%Y-%m-%d')"
      ]
    },
    {
      "cell_type": "code",
      "execution_count": null,
      "metadata": {},
      "outputs": [],
      "source": [
        "cruzamento_dados['dia'] = cruzamento_dados['data_iniSE'].dt.day\n",
        "cruzamento_dados['mes'] = cruzamento_dados['data_iniSE'].dt.month"
      ]
    },
    {
      "cell_type": "markdown",
      "metadata": {},
      "source": [
        "# Obter informações do cruzamento"
      ]
    },
    {
      "cell_type": "code",
      "execution_count": null,
      "metadata": {},
      "outputs": [],
      "source": [
        "cruzamento_dados['nivel'].value_counts()"
      ]
    },
    {
      "cell_type": "code",
      "execution_count": null,
      "metadata": {},
      "outputs": [],
      "source": [
        "cruzamento_dados.columns"
      ]
    },
    {
      "cell_type": "markdown",
      "metadata": {},
      "source": [
        "## Iniciar os testes"
      ]
    },
    {
      "cell_type": "code",
      "execution_count": null,
      "metadata": {},
      "outputs": [],
      "source": [
        "X = cruzamento_dados[[\n",
        "   'PRECIPITAÇÃO TOTAL, HORÁRIO (mm)',\n",
        "    'TEMPERATURA MÁXIMA NA HORA ANT. (AUT) (°C)',\n",
        "       'UMIDADE REL. MAX. NA HORA ANT. (AUT) (%)',\n",
        "   'UMIDADE REL. MIN. NA HORA ANT. (AUT) (%)',\n",
        "      'dia',\n",
        "    'mes'\n",
        "]]"
      ]
    },
    {
      "cell_type": "markdown",
      "metadata": {},
      "source": [
        "## Criar lags dsa variáveis\n"
      ]
    },
    {
      "cell_type": "code",
      "execution_count": null,
      "metadata": {},
      "outputs": [],
      "source": [
        "met_vars = [\n",
        "    'PRECIPITAÇÃO TOTAL, HORÁRIO (mm)',\n",
        "    'TEMPERATURA MÁXIMA NA HORA ANT. (AUT) (°C)',\n",
        "    'UMIDADE REL. MAX. NA HORA ANT. (AUT) (%)',\n",
        "    'mes',\n",
        "    'dia'\n",
        "]\n",
        "for var in met_vars:\n",
        "    for lag in [1,2,3,4]:\n",
        "        cruzamento_dados[f'{var}_lag{lag}'] = cruzamento_dados[var].shift(lag)"
      ]
    },
    {
      "cell_type": "markdown",
      "metadata": {},
      "source": [
        "### Limpar dados vazios"
      ]
    },
    {
      "cell_type": "code",
      "execution_count": null,
      "metadata": {},
      "outputs": [],
      "source": [
        "cruzamento_dados.dropna(inplace=True)"
      ]
    },
    {
      "cell_type": "code",
      "execution_count": null,
      "metadata": {},
      "outputs": [],
      "source": [
        "def is_met_var(var_name):\n",
        "    for met in met_vars:\n",
        "        if var_name == met or var_name.startswith(met + \"_lag\"):\n",
        "            return True\n",
        "    return False\n",
        "features = [c for c in cruzamento_dados.columns if is_met_var(c)]\n",
        "X = cruzamento_dados[features]\n",
        "y = cruzamento_dados['nivel']"
      ]
    },
    {
      "cell_type": "code",
      "execution_count": null,
      "metadata": {},
      "outputs": [],
      "source": [
        "n = len(cruzamento_dados)\n",
        "n_train = int(0.7 * n)\n",
        "X_train = X.iloc[:n_train]\n",
        "X_test  = X.iloc[n_train:]\n",
        "y_train = y.iloc[:n_train]\n",
        "y_test  = y.iloc[n_train:]"
      ]
    },
    {
      "cell_type": "markdown",
      "metadata": {},
      "source": [
        "# Árvore de decição de classificação"
      ]
    },
    {
      "cell_type": "code",
      "execution_count": null,
      "metadata": {},
      "outputs": [],
      "source": [
        "decision_tree = DecisionTreeClassifier()\n",
        "decision_tree.fit(X_train, y_train)"
      ]
    },
    {
      "cell_type": "code",
      "execution_count": null,
      "metadata": {},
      "outputs": [],
      "source": [
        "resultado = decision_tree.predict(X_test)"
      ]
    },
    {
      "cell_type": "code",
      "execution_count": null,
      "metadata": {},
      "outputs": [],
      "source": [
        "metrics.recall_score(y_test, resultado, average=\"micro\")"
      ]
    },
    {
      "cell_type": "code",
      "execution_count": null,
      "metadata": {},
      "outputs": [],
      "source": [
        "print(classification_report(y_test, resultado))"
      ]
    },
    {
      "cell_type": "code",
      "execution_count": null,
      "metadata": {},
      "outputs": [],
      "source": [
        "resultado"
      ]
    },
    {
      "cell_type": "markdown",
      "metadata": {},
      "source": [
        "# Random Forest"
      ]
    },
    {
      "cell_type": "code",
      "execution_count": null,
      "metadata": {},
      "outputs": [],
      "source": [
        "valores=pd.DataFrame(columns=['indice','porcentagem'])\n",
        "random_forest = RandomForestClassifier(n_estimators=18)\n",
        "random_forest.fit(X_train, y_train)\n",
        "resultado = random_forest.predict(X_test)\n",
        "resultado_porcentagem=metrics.recall_score(y_test, resultado, average=\"micro\")\n",
        "print(classification_report(y_test, resultado))\n",
        "valores.loc[len(valores)] = [18, resultado_porcentagem]\n",
        "print(18,metrics.recall_score(y_test, resultado, average=\"micro\"))"
      ]
    }
  ],
  "metadata": {
    "colab": {
      "provenance": []
    },
    "kernelspec": {
      "display_name": "Python 3",
      "name": "python3"
    },
    "language_info": {
      "name": "python"
    }
  },
  "nbformat": 4,
  "nbformat_minor": 0
}
