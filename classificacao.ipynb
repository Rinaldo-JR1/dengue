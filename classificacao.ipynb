{
  "cells": [
    {
      "cell_type": "markdown",
      "metadata": {
        "id": "GGqxumJG1uxX"
      },
      "source": [
        "# Importação de dependencias"
      ]
    },
    {
      "cell_type": "code",
      "execution_count": 26,
      "metadata": {
        "id": "OOPASL6E1y_H"
      },
      "outputs": [],
      "source": [
        "import pandas as pd\n",
        "import seaborn as sns\n",
        "import plotly.express as px\n",
        "from sklearn.metrics import confusion_matrix, ConfusionMatrixDisplay\n",
        "import matplotlib.pyplot as plt\n",
        "from sklearn.model_selection import train_test_split\n",
        "from sklearn.tree import DecisionTreeClassifier\n",
        "from sklearn import metrics\n",
        "from sklearn.ensemble import RandomForestClassifier\n",
        "from sklearn.neighbors import KNeighborsClassifier\n",
        "from sklearn.metrics import classification_report\n",
        "import numpy as np"
      ]
    },
    {
      "cell_type": "markdown",
      "metadata": {
        "id": "Th6ysQ_414DT"
      },
      "source": [
        "# Obter dados através da api da Info Dengue\n",
        "Documentação: [Tutorial da API](https://info.dengue.mat.br/services/tutorial/Python)\n"
      ]
    },
    {
      "cell_type": "code",
      "execution_count": 27,
      "metadata": {
        "id": "AHC_B66C13Zf"
      },
      "outputs": [],
      "source": [
        "url = \"https://info.dengue.mat.br/api/alertcity\"\n",
        "geocode = 2304400\n",
        "disease = \"dengue\"\n",
        "format = \"csv\"\n",
        "ew_start = 1\n",
        "ew_end = 53\n",
        "ey_start = 2015\n",
        "ey_end = 2024\n",
        "\n",
        "params =(\n",
        "    \"&disease=\"\n",
        "    + f\"{disease}\"\n",
        "    + \"&geocode=\"\n",
        "    + f\"{geocode}\"\n",
        "    + \"&disease=\"\n",
        "    + f\"{disease}\"\n",
        "    + \"&format=\"\n",
        "    + f\"{format}\"\n",
        "    + \"&ew_start=\"\n",
        "    + f\"{ew_start}\"\n",
        "    + \"&ew_end=\"\n",
        "    + f\"{ew_end}\"\n",
        "    + \"&ey_start=\"\n",
        "    + f\"{ey_start}\"\n",
        "    + \"&ey_end=\"\n",
        "    + f\"{ey_end}\"\n",
        ")\n",
        "\n",
        "url_resp = \"?\".join([url, params])"
      ]
    },
    {
      "cell_type": "code",
      "execution_count": 28,
      "metadata": {},
      "outputs": [],
      "source": [
        "dados = pd.read_csv(url_resp, index_col='SE')"
      ]
    },
    {
      "cell_type": "markdown",
      "metadata": {
        "id": "BCT1czxs2TxL"
      },
      "source": [
        "# Ler os dados metereologicos pelo site INMET (Instituto nacional de metereologia)\n",
        "[Link](https://portal.inmet.gov.br/dadoshistoricos)"
      ]
    },
    {
      "cell_type": "code",
      "execution_count": 29,
      "metadata": {
        "id": "mkYT4Dxo3eSu"
      },
      "outputs": [],
      "source": [
        "df = pd.read_csv('./data/FORTALEZA_2015_2024.CSV', encoding='latin1' ,sep=\";\", decimal=',')"
      ]
    },
    {
      "cell_type": "markdown",
      "metadata": {
        "id": "rURfc6YD5YrS"
      },
      "source": [
        "## Limpeza e tratamento de dados"
      ]
    },
    {
      "cell_type": "markdown",
      "metadata": {},
      "source": [
        "### Substituindo -9999 por np.nan em todo o DataFrame\n",
        "\n"
      ]
    },
    {
      "cell_type": "code",
      "execution_count": 30,
      "metadata": {
        "id": "DYYV3njN4mk1"
      },
      "outputs": [],
      "source": [
        "df = df.replace(-9999, np.nan)"
      ]
    },
    {
      "cell_type": "markdown",
      "metadata": {
        "id": "cjEqS_RY5TPy"
      },
      "source": [
        "### Formatar Data e criamos uma ramificação só pegando os valores Mensal\n"
      ]
    },
    {
      "cell_type": "code",
      "execution_count": 31,
      "metadata": {
        "id": "YG1_8slC5R8R"
      },
      "outputs": [],
      "source": [
        "df['Data'] = pd.to_datetime(df['Data'],format='%d/%m/%Y')\n",
        "df.set_index('Data', inplace=True)"
      ]
    },
    {
      "cell_type": "markdown",
      "metadata": {
        "id": "fwCr-LKJ5ulJ"
      },
      "source": [
        "#### Condições"
      ]
    },
    {
      "cell_type": "code",
      "execution_count": 32,
      "metadata": {
        "id": "vQ6aAHtk7DEx"
      },
      "outputs": [],
      "source": [
        "condicoes={'PRECIPITAÇÃO TOTAL, HORÁRIO (mm)':\"sum\",\n",
        "'PRESSAO ATMOSFERICA AO NIVEL DA ESTACAO, HORARIA (mB)':\"mean\",\n",
        "'PRESSÃO ATMOSFERICA MAX.NA HORA ANT. (AUT) (mB)':\"mean\",\n",
        "'PRESSÃO ATMOSFERICA MIN. NA HORA ANT. (AUT) (mB)':\"mean\",\n",
        "'TEMPERATURA DO AR - BULBO SECO, HORARIA (°C)':\"mean\",\n",
        "'TEMPERATURA DO PONTO DE ORVALHO (°C)':\"mean\",\n",
        "'TEMPERATURA MÁXIMA NA HORA ANT. (AUT) (°C)':\"mean\",\n",
        "'TEMPERATURA MÍNIMA NA HORA ANT. (AUT) (°C)':\"mean\",\n",
        "'TEMPERATURA ORVALHO MAX. NA HORA ANT. (AUT) (°C)':\"mean\",\n",
        "'TEMPERATURA ORVALHO MIN. NA HORA ANT. (AUT) (°C)':\"mean\",\n",
        "'UMIDADE REL. MAX. NA HORA ANT. (AUT) (%)':\"mean\",\n",
        "'UMIDADE REL. MIN. NA HORA ANT. (AUT) (%)':\"mean\",\n",
        "}\n"
      ]
    },
    {
      "cell_type": "markdown",
      "metadata": {
        "id": "dLYyH_Zp7OIf"
      },
      "source": [
        "#### Colunas para remover"
      ]
    },
    {
      "cell_type": "code",
      "execution_count": 33,
      "metadata": {
        "id": "nvEUWlG27IzI"
      },
      "outputs": [],
      "source": [
        "columns_to_drop_mensal_sem_vento = ['Hora UTC', 'RADIACAO GLOBAL (Kj/m²)',\n",
        "                   'UMIDADE RELATIVA DO AR, HORARIA (%)',\n",
        "                   'VENTO, DIREÇÃO HORARIA (gr) (° (gr))',\n",
        "                   'VENTO, RAJADA MAXIMA (m/s)', 'VENTO, VELOCIDADE HORARIA (m/s)']\n",
        "df1 = df.copy()"
      ]
    },
    {
      "cell_type": "markdown",
      "metadata": {
        "id": "KAHixDo77U83"
      },
      "source": [
        "#### Agrupar o dataframe com suas condições"
      ]
    },
    {
      "cell_type": "code",
      "execution_count": 34,
      "metadata": {},
      "outputs": [],
      "source": [
        "df1 = df1.resample('W').agg(condicoes)"
      ]
    },
    {
      "cell_type": "markdown",
      "metadata": {
        "id": "R8yObtKTlHSs"
      },
      "source": [
        "#### Arredondamento"
      ]
    },
    {
      "cell_type": "code",
      "execution_count": 35,
      "metadata": {
        "id": "jrgsjsDNlJ5i"
      },
      "outputs": [],
      "source": [
        "for coluna in df1.columns:\n",
        "  df1[coluna]=df1[coluna].round(2)"
      ]
    },
    {
      "cell_type": "code",
      "execution_count": 36,
      "metadata": {
        "id": "Y0h1-iCflNnE"
      },
      "outputs": [],
      "source": [
        "df1['data_iniSE']=df1.index"
      ]
    },
    {
      "cell_type": "markdown",
      "metadata": {},
      "source": [
        "### Transformar as datas em string"
      ]
    },
    {
      "cell_type": "code",
      "execution_count": 37,
      "metadata": {
        "id": "ctLFVqpalPPk"
      },
      "outputs": [],
      "source": [
        "df1['data_iniSE']=df1['data_iniSE'].astype(str)"
      ]
    },
    {
      "cell_type": "markdown",
      "metadata": {
        "id": "xx4OwuLs432d"
      },
      "source": [
        "# Obter informações sobre o DataFrame"
      ]
    },
    {
      "cell_type": "code",
      "execution_count": 38,
      "metadata": {
        "id": "iEj01ZlU3nVF"
      },
      "outputs": [
        {
          "data": {
            "text/html": [
              "<div>\n",
              "<style scoped>\n",
              "    .dataframe tbody tr th:only-of-type {\n",
              "        vertical-align: middle;\n",
              "    }\n",
              "\n",
              "    .dataframe tbody tr th {\n",
              "        vertical-align: top;\n",
              "    }\n",
              "\n",
              "    .dataframe thead th {\n",
              "        text-align: right;\n",
              "    }\n",
              "</style>\n",
              "<table border=\"1\" class=\"dataframe\">\n",
              "  <thead>\n",
              "    <tr style=\"text-align: right;\">\n",
              "      <th></th>\n",
              "      <th>PRECIPITAÇÃO TOTAL, HORÁRIO (mm)</th>\n",
              "      <th>PRESSAO ATMOSFERICA AO NIVEL DA ESTACAO, HORARIA (mB)</th>\n",
              "      <th>PRESSÃO ATMOSFERICA MAX.NA HORA ANT. (AUT) (mB)</th>\n",
              "      <th>PRESSÃO ATMOSFERICA MIN. NA HORA ANT. (AUT) (mB)</th>\n",
              "      <th>TEMPERATURA DO AR - BULBO SECO, HORARIA (°C)</th>\n",
              "      <th>TEMPERATURA DO PONTO DE ORVALHO (°C)</th>\n",
              "      <th>TEMPERATURA MÁXIMA NA HORA ANT. (AUT) (°C)</th>\n",
              "      <th>TEMPERATURA MÍNIMA NA HORA ANT. (AUT) (°C)</th>\n",
              "      <th>TEMPERATURA ORVALHO MAX. NA HORA ANT. (AUT) (°C)</th>\n",
              "      <th>TEMPERATURA ORVALHO MIN. NA HORA ANT. (AUT) (°C)</th>\n",
              "      <th>UMIDADE REL. MAX. NA HORA ANT. (AUT) (%)</th>\n",
              "      <th>UMIDADE REL. MIN. NA HORA ANT. (AUT) (%)</th>\n",
              "      <th>data_iniSE</th>\n",
              "    </tr>\n",
              "    <tr>\n",
              "      <th>Data</th>\n",
              "      <th></th>\n",
              "      <th></th>\n",
              "      <th></th>\n",
              "      <th></th>\n",
              "      <th></th>\n",
              "      <th></th>\n",
              "      <th></th>\n",
              "      <th></th>\n",
              "      <th></th>\n",
              "      <th></th>\n",
              "      <th></th>\n",
              "      <th></th>\n",
              "      <th></th>\n",
              "    </tr>\n",
              "  </thead>\n",
              "  <tbody>\n",
              "    <tr>\n",
              "      <th>2015-01-04</th>\n",
              "      <td>54.6</td>\n",
              "      <td>1010.03</td>\n",
              "      <td>1010.28</td>\n",
              "      <td>1009.78</td>\n",
              "      <td>26.45</td>\n",
              "      <td>21.31</td>\n",
              "      <td>26.90</td>\n",
              "      <td>26.07</td>\n",
              "      <td>21.67</td>\n",
              "      <td>20.97</td>\n",
              "      <td>76.16</td>\n",
              "      <td>72.23</td>\n",
              "      <td>2015-01-04</td>\n",
              "    </tr>\n",
              "    <tr>\n",
              "      <th>2015-01-11</th>\n",
              "      <td>12.2</td>\n",
              "      <td>1010.34</td>\n",
              "      <td>1010.57</td>\n",
              "      <td>1010.12</td>\n",
              "      <td>27.17</td>\n",
              "      <td>21.27</td>\n",
              "      <td>27.61</td>\n",
              "      <td>26.75</td>\n",
              "      <td>21.72</td>\n",
              "      <td>20.83</td>\n",
              "      <td>73.32</td>\n",
              "      <td>68.60</td>\n",
              "      <td>2015-01-11</td>\n",
              "    </tr>\n",
              "    <tr>\n",
              "      <th>2015-01-18</th>\n",
              "      <td>4.8</td>\n",
              "      <td>1009.91</td>\n",
              "      <td>1010.16</td>\n",
              "      <td>1009.67</td>\n",
              "      <td>27.84</td>\n",
              "      <td>21.10</td>\n",
              "      <td>28.26</td>\n",
              "      <td>27.45</td>\n",
              "      <td>21.58</td>\n",
              "      <td>20.67</td>\n",
              "      <td>69.99</td>\n",
              "      <td>65.29</td>\n",
              "      <td>2015-01-18</td>\n",
              "    </tr>\n",
              "    <tr>\n",
              "      <th>2015-01-25</th>\n",
              "      <td>3.4</td>\n",
              "      <td>1009.30</td>\n",
              "      <td>1009.52</td>\n",
              "      <td>1009.06</td>\n",
              "      <td>27.79</td>\n",
              "      <td>21.08</td>\n",
              "      <td>28.24</td>\n",
              "      <td>27.38</td>\n",
              "      <td>21.52</td>\n",
              "      <td>20.61</td>\n",
              "      <td>69.74</td>\n",
              "      <td>65.13</td>\n",
              "      <td>2015-01-25</td>\n",
              "    </tr>\n",
              "    <tr>\n",
              "      <th>2015-02-01</th>\n",
              "      <td>0.6</td>\n",
              "      <td>1009.20</td>\n",
              "      <td>1009.43</td>\n",
              "      <td>1008.97</td>\n",
              "      <td>27.76</td>\n",
              "      <td>20.92</td>\n",
              "      <td>28.30</td>\n",
              "      <td>27.32</td>\n",
              "      <td>21.38</td>\n",
              "      <td>20.46</td>\n",
              "      <td>69.71</td>\n",
              "      <td>64.88</td>\n",
              "      <td>2015-02-01</td>\n",
              "    </tr>\n",
              "  </tbody>\n",
              "</table>\n",
              "</div>"
            ],
            "text/plain": [
              "            PRECIPITAÇÃO TOTAL, HORÁRIO (mm)  \\\n",
              "Data                                           \n",
              "2015-01-04                              54.6   \n",
              "2015-01-11                              12.2   \n",
              "2015-01-18                               4.8   \n",
              "2015-01-25                               3.4   \n",
              "2015-02-01                               0.6   \n",
              "\n",
              "            PRESSAO ATMOSFERICA AO NIVEL DA ESTACAO, HORARIA (mB)  \\\n",
              "Data                                                                \n",
              "2015-01-04                                            1010.03       \n",
              "2015-01-11                                            1010.34       \n",
              "2015-01-18                                            1009.91       \n",
              "2015-01-25                                            1009.30       \n",
              "2015-02-01                                            1009.20       \n",
              "\n",
              "            PRESSÃO ATMOSFERICA MAX.NA HORA ANT. (AUT) (mB)  \\\n",
              "Data                                                          \n",
              "2015-01-04                                          1010.28   \n",
              "2015-01-11                                          1010.57   \n",
              "2015-01-18                                          1010.16   \n",
              "2015-01-25                                          1009.52   \n",
              "2015-02-01                                          1009.43   \n",
              "\n",
              "            PRESSÃO ATMOSFERICA MIN. NA HORA ANT. (AUT) (mB)  \\\n",
              "Data                                                           \n",
              "2015-01-04                                           1009.78   \n",
              "2015-01-11                                           1010.12   \n",
              "2015-01-18                                           1009.67   \n",
              "2015-01-25                                           1009.06   \n",
              "2015-02-01                                           1008.97   \n",
              "\n",
              "            TEMPERATURA DO AR - BULBO SECO, HORARIA (°C)  \\\n",
              "Data                                                       \n",
              "2015-01-04                                         26.45   \n",
              "2015-01-11                                         27.17   \n",
              "2015-01-18                                         27.84   \n",
              "2015-01-25                                         27.79   \n",
              "2015-02-01                                         27.76   \n",
              "\n",
              "            TEMPERATURA DO PONTO DE ORVALHO (°C)  \\\n",
              "Data                                               \n",
              "2015-01-04                                 21.31   \n",
              "2015-01-11                                 21.27   \n",
              "2015-01-18                                 21.10   \n",
              "2015-01-25                                 21.08   \n",
              "2015-02-01                                 20.92   \n",
              "\n",
              "            TEMPERATURA MÁXIMA NA HORA ANT. (AUT) (°C)  \\\n",
              "Data                                                     \n",
              "2015-01-04                                       26.90   \n",
              "2015-01-11                                       27.61   \n",
              "2015-01-18                                       28.26   \n",
              "2015-01-25                                       28.24   \n",
              "2015-02-01                                       28.30   \n",
              "\n",
              "            TEMPERATURA MÍNIMA NA HORA ANT. (AUT) (°C)  \\\n",
              "Data                                                     \n",
              "2015-01-04                                       26.07   \n",
              "2015-01-11                                       26.75   \n",
              "2015-01-18                                       27.45   \n",
              "2015-01-25                                       27.38   \n",
              "2015-02-01                                       27.32   \n",
              "\n",
              "            TEMPERATURA ORVALHO MAX. NA HORA ANT. (AUT) (°C)  \\\n",
              "Data                                                           \n",
              "2015-01-04                                             21.67   \n",
              "2015-01-11                                             21.72   \n",
              "2015-01-18                                             21.58   \n",
              "2015-01-25                                             21.52   \n",
              "2015-02-01                                             21.38   \n",
              "\n",
              "            TEMPERATURA ORVALHO MIN. NA HORA ANT. (AUT) (°C)  \\\n",
              "Data                                                           \n",
              "2015-01-04                                             20.97   \n",
              "2015-01-11                                             20.83   \n",
              "2015-01-18                                             20.67   \n",
              "2015-01-25                                             20.61   \n",
              "2015-02-01                                             20.46   \n",
              "\n",
              "            UMIDADE REL. MAX. NA HORA ANT. (AUT) (%)  \\\n",
              "Data                                                   \n",
              "2015-01-04                                     76.16   \n",
              "2015-01-11                                     73.32   \n",
              "2015-01-18                                     69.99   \n",
              "2015-01-25                                     69.74   \n",
              "2015-02-01                                     69.71   \n",
              "\n",
              "            UMIDADE REL. MIN. NA HORA ANT. (AUT) (%)  data_iniSE  \n",
              "Data                                                              \n",
              "2015-01-04                                     72.23  2015-01-04  \n",
              "2015-01-11                                     68.60  2015-01-11  \n",
              "2015-01-18                                     65.29  2015-01-18  \n",
              "2015-01-25                                     65.13  2015-01-25  \n",
              "2015-02-01                                     64.88  2015-02-01  "
            ]
          },
          "execution_count": 38,
          "metadata": {},
          "output_type": "execute_result"
        }
      ],
      "source": [
        "df1.head()"
      ]
    },
    {
      "cell_type": "code",
      "execution_count": 39,
      "metadata": {
        "id": "uiNtNx_f3qB8"
      },
      "outputs": [
        {
          "name": "stdout",
          "output_type": "stream",
          "text": [
            "<class 'pandas.core.frame.DataFrame'>\n",
            "DatetimeIndex: 523 entries, 2015-01-04 to 2025-01-05\n",
            "Freq: W-SUN\n",
            "Data columns (total 13 columns):\n",
            " #   Column                                                 Non-Null Count  Dtype  \n",
            "---  ------                                                 --------------  -----  \n",
            " 0   PRECIPITAÇÃO TOTAL, HORÁRIO (mm)                       523 non-null    float64\n",
            " 1   PRESSAO ATMOSFERICA AO NIVEL DA ESTACAO, HORARIA (mB)  493 non-null    float64\n",
            " 2   PRESSÃO ATMOSFERICA MAX.NA HORA ANT. (AUT) (mB)        493 non-null    float64\n",
            " 3   PRESSÃO ATMOSFERICA MIN. NA HORA ANT. (AUT) (mB)       493 non-null    float64\n",
            " 4   TEMPERATURA DO AR - BULBO SECO, HORARIA (°C)           493 non-null    float64\n",
            " 5   TEMPERATURA DO PONTO DE ORVALHO (°C)                   493 non-null    float64\n",
            " 6   TEMPERATURA MÁXIMA NA HORA ANT. (AUT) (°C)             493 non-null    float64\n",
            " 7   TEMPERATURA MÍNIMA NA HORA ANT. (AUT) (°C)             493 non-null    float64\n",
            " 8   TEMPERATURA ORVALHO MAX. NA HORA ANT. (AUT) (°C)       493 non-null    float64\n",
            " 9   TEMPERATURA ORVALHO MIN. NA HORA ANT. (AUT) (°C)       493 non-null    float64\n",
            " 10  UMIDADE REL. MAX. NA HORA ANT. (AUT) (%)               493 non-null    float64\n",
            " 11  UMIDADE REL. MIN. NA HORA ANT. (AUT) (%)               493 non-null    float64\n",
            " 12  data_iniSE                                             523 non-null    object \n",
            "dtypes: float64(12), object(1)\n",
            "memory usage: 57.2+ KB\n"
          ]
        }
      ],
      "source": [
        "df1.info()"
      ]
    },
    {
      "cell_type": "markdown",
      "metadata": {
        "id": "iEccBTyW4-_7"
      },
      "source": []
    },
    {
      "cell_type": "code",
      "execution_count": 40,
      "metadata": {
        "id": "6ZMC4XGMlSv8"
      },
      "outputs": [
        {
          "data": {
            "text/plain": [
              "Index(['PRECIPITAÇÃO TOTAL, HORÁRIO (mm)',\n",
              "       'PRESSAO ATMOSFERICA AO NIVEL DA ESTACAO, HORARIA (mB)',\n",
              "       'PRESSÃO ATMOSFERICA MAX.NA HORA ANT. (AUT) (mB)',\n",
              "       'PRESSÃO ATMOSFERICA MIN. NA HORA ANT. (AUT) (mB)',\n",
              "       'TEMPERATURA DO AR - BULBO SECO, HORARIA (°C)',\n",
              "       'TEMPERATURA DO PONTO DE ORVALHO (°C)',\n",
              "       'TEMPERATURA MÁXIMA NA HORA ANT. (AUT) (°C)',\n",
              "       'TEMPERATURA MÍNIMA NA HORA ANT. (AUT) (°C)',\n",
              "       'TEMPERATURA ORVALHO MAX. NA HORA ANT. (AUT) (°C)',\n",
              "       'TEMPERATURA ORVALHO MIN. NA HORA ANT. (AUT) (°C)',\n",
              "       'UMIDADE REL. MAX. NA HORA ANT. (AUT) (%)',\n",
              "       'UMIDADE REL. MIN. NA HORA ANT. (AUT) (%)', 'data_iniSE'],\n",
              "      dtype='object')"
            ]
          },
          "execution_count": 40,
          "metadata": {},
          "output_type": "execute_result"
        }
      ],
      "source": [
        "df1.columns"
      ]
    },
    {
      "cell_type": "markdown",
      "metadata": {},
      "source": [
        "# Realizar o cruzamento dos dados e limpeza dos dados"
      ]
    },
    {
      "cell_type": "code",
      "execution_count": 41,
      "metadata": {},
      "outputs": [],
      "source": [
        "cruzamento_dados=df1.merge(dados[['data_iniSE','nivel', 'casos','umidmax', 'tempmax',]],on='data_iniSE',how='left')"
      ]
    },
    {
      "cell_type": "code",
      "execution_count": 42,
      "metadata": {},
      "outputs": [],
      "source": [
        "cruzamento_dados.dropna(inplace=True)"
      ]
    },
    {
      "cell_type": "code",
      "execution_count": 43,
      "metadata": {},
      "outputs": [],
      "source": [
        "cruzamento_dados['data_iniSE'] = pd.to_datetime(cruzamento_dados['data_iniSE'],format='%Y-%m-%d')"
      ]
    },
    {
      "cell_type": "code",
      "execution_count": 44,
      "metadata": {},
      "outputs": [],
      "source": [
        "cruzamento_dados['dia'] = cruzamento_dados['data_iniSE'].dt.day\n",
        "cruzamento_dados['mes'] = cruzamento_dados['data_iniSE'].dt.month"
      ]
    },
    {
      "cell_type": "markdown",
      "metadata": {},
      "source": [
        "# Obter informações do cruzamento"
      ]
    },
    {
      "cell_type": "code",
      "execution_count": 45,
      "metadata": {},
      "outputs": [
        {
          "data": {
            "text/plain": [
              "1.0    274\n",
              "2.0     85\n",
              "3.0     76\n",
              "4.0     42\n",
              "Name: nivel, dtype: int64"
            ]
          },
          "execution_count": 45,
          "metadata": {},
          "output_type": "execute_result"
        }
      ],
      "source": [
        "cruzamento_dados['nivel'].value_counts()"
      ]
    },
    {
      "cell_type": "code",
      "execution_count": 46,
      "metadata": {},
      "outputs": [
        {
          "data": {
            "text/plain": [
              "Index(['PRECIPITAÇÃO TOTAL, HORÁRIO (mm)',\n",
              "       'PRESSAO ATMOSFERICA AO NIVEL DA ESTACAO, HORARIA (mB)',\n",
              "       'PRESSÃO ATMOSFERICA MAX.NA HORA ANT. (AUT) (mB)',\n",
              "       'PRESSÃO ATMOSFERICA MIN. NA HORA ANT. (AUT) (mB)',\n",
              "       'TEMPERATURA DO AR - BULBO SECO, HORARIA (°C)',\n",
              "       'TEMPERATURA DO PONTO DE ORVALHO (°C)',\n",
              "       'TEMPERATURA MÁXIMA NA HORA ANT. (AUT) (°C)',\n",
              "       'TEMPERATURA MÍNIMA NA HORA ANT. (AUT) (°C)',\n",
              "       'TEMPERATURA ORVALHO MAX. NA HORA ANT. (AUT) (°C)',\n",
              "       'TEMPERATURA ORVALHO MIN. NA HORA ANT. (AUT) (°C)',\n",
              "       'UMIDADE REL. MAX. NA HORA ANT. (AUT) (%)',\n",
              "       'UMIDADE REL. MIN. NA HORA ANT. (AUT) (%)', 'data_iniSE', 'nivel',\n",
              "       'casos', 'umidmax', 'tempmax', 'dia', 'mes'],\n",
              "      dtype='object')"
            ]
          },
          "execution_count": 46,
          "metadata": {},
          "output_type": "execute_result"
        }
      ],
      "source": [
        "cruzamento_dados.columns"
      ]
    },
    {
      "cell_type": "markdown",
      "metadata": {},
      "source": [
        "## Iniciar os testes"
      ]
    },
    {
      "cell_type": "code",
      "execution_count": 47,
      "metadata": {},
      "outputs": [],
      "source": [
        "X = cruzamento_dados[[\n",
        "   'PRECIPITAÇÃO TOTAL, HORÁRIO (mm)',\n",
        "    'TEMPERATURA MÁXIMA NA HORA ANT. (AUT) (°C)',\n",
        "       'UMIDADE REL. MAX. NA HORA ANT. (AUT) (%)',\n",
        "   'UMIDADE REL. MIN. NA HORA ANT. (AUT) (%)',\n",
        "      'dia',\n",
        "    'mes'\n",
        "]]"
      ]
    },
    {
      "cell_type": "markdown",
      "metadata": {},
      "source": [
        "## Criar lags dsa variáveis\n"
      ]
    },
    {
      "cell_type": "code",
      "execution_count": 48,
      "metadata": {},
      "outputs": [],
      "source": [
        "met_vars = [\n",
        "    'PRECIPITAÇÃO TOTAL, HORÁRIO (mm)',\n",
        "    'TEMPERATURA MÁXIMA NA HORA ANT. (AUT) (°C)',\n",
        "    'UMIDADE REL. MAX. NA HORA ANT. (AUT) (%)',\n",
        "    'mes',\n",
        "    'dia'\n",
        "]\n",
        "for var in met_vars:\n",
        "    for lag in [1,2,3,4]:\n",
        "        cruzamento_dados[f'{var}_lag{lag}'] = cruzamento_dados[var].shift(lag)"
      ]
    },
    {
      "cell_type": "markdown",
      "metadata": {},
      "source": [
        "### Limpar dados vazios"
      ]
    },
    {
      "cell_type": "code",
      "execution_count": 49,
      "metadata": {},
      "outputs": [],
      "source": [
        "cruzamento_dados.dropna(inplace=True)"
      ]
    },
    {
      "cell_type": "code",
      "execution_count": 50,
      "metadata": {},
      "outputs": [],
      "source": [
        "def is_met_var(var_name):\n",
        "    for met in met_vars:\n",
        "        if var_name == met or var_name.startswith(met + \"_lag\"):\n",
        "            return True\n",
        "    return False\n",
        "features = [c for c in cruzamento_dados.columns if is_met_var(c)]\n",
        "X = cruzamento_dados[features]\n",
        "y = cruzamento_dados['nivel']"
      ]
    },
    {
      "cell_type": "code",
      "execution_count": 51,
      "metadata": {},
      "outputs": [],
      "source": [
        "n = len(cruzamento_dados)\n",
        "n_train = int(0.7 * n)\n",
        "X_train = X.iloc[:n_train]\n",
        "X_test  = X.iloc[n_train:]\n",
        "y_train = y.iloc[:n_train]\n",
        "y_test  = y.iloc[n_train:]"
      ]
    },
    {
      "cell_type": "markdown",
      "metadata": {},
      "source": [
        "# Árvore de decição de classificação"
      ]
    },
    {
      "cell_type": "code",
      "execution_count": 52,
      "metadata": {},
      "outputs": [
        {
          "data": {
            "text/html": [
              "<style>#sk-container-id-1 {color: black;background-color: white;}#sk-container-id-1 pre{padding: 0;}#sk-container-id-1 div.sk-toggleable {background-color: white;}#sk-container-id-1 label.sk-toggleable__label {cursor: pointer;display: block;width: 100%;margin-bottom: 0;padding: 0.3em;box-sizing: border-box;text-align: center;}#sk-container-id-1 label.sk-toggleable__label-arrow:before {content: \"▸\";float: left;margin-right: 0.25em;color: #696969;}#sk-container-id-1 label.sk-toggleable__label-arrow:hover:before {color: black;}#sk-container-id-1 div.sk-estimator:hover label.sk-toggleable__label-arrow:before {color: black;}#sk-container-id-1 div.sk-toggleable__content {max-height: 0;max-width: 0;overflow: hidden;text-align: left;background-color: #f0f8ff;}#sk-container-id-1 div.sk-toggleable__content pre {margin: 0.2em;color: black;border-radius: 0.25em;background-color: #f0f8ff;}#sk-container-id-1 input.sk-toggleable__control:checked~div.sk-toggleable__content {max-height: 200px;max-width: 100%;overflow: auto;}#sk-container-id-1 input.sk-toggleable__control:checked~label.sk-toggleable__label-arrow:before {content: \"▾\";}#sk-container-id-1 div.sk-estimator input.sk-toggleable__control:checked~label.sk-toggleable__label {background-color: #d4ebff;}#sk-container-id-1 div.sk-label input.sk-toggleable__control:checked~label.sk-toggleable__label {background-color: #d4ebff;}#sk-container-id-1 input.sk-hidden--visually {border: 0;clip: rect(1px 1px 1px 1px);clip: rect(1px, 1px, 1px, 1px);height: 1px;margin: -1px;overflow: hidden;padding: 0;position: absolute;width: 1px;}#sk-container-id-1 div.sk-estimator {font-family: monospace;background-color: #f0f8ff;border: 1px dotted black;border-radius: 0.25em;box-sizing: border-box;margin-bottom: 0.5em;}#sk-container-id-1 div.sk-estimator:hover {background-color: #d4ebff;}#sk-container-id-1 div.sk-parallel-item::after {content: \"\";width: 100%;border-bottom: 1px solid gray;flex-grow: 1;}#sk-container-id-1 div.sk-label:hover label.sk-toggleable__label {background-color: #d4ebff;}#sk-container-id-1 div.sk-serial::before {content: \"\";position: absolute;border-left: 1px solid gray;box-sizing: border-box;top: 0;bottom: 0;left: 50%;z-index: 0;}#sk-container-id-1 div.sk-serial {display: flex;flex-direction: column;align-items: center;background-color: white;padding-right: 0.2em;padding-left: 0.2em;position: relative;}#sk-container-id-1 div.sk-item {position: relative;z-index: 1;}#sk-container-id-1 div.sk-parallel {display: flex;align-items: stretch;justify-content: center;background-color: white;position: relative;}#sk-container-id-1 div.sk-item::before, #sk-container-id-1 div.sk-parallel-item::before {content: \"\";position: absolute;border-left: 1px solid gray;box-sizing: border-box;top: 0;bottom: 0;left: 50%;z-index: -1;}#sk-container-id-1 div.sk-parallel-item {display: flex;flex-direction: column;z-index: 1;position: relative;background-color: white;}#sk-container-id-1 div.sk-parallel-item:first-child::after {align-self: flex-end;width: 50%;}#sk-container-id-1 div.sk-parallel-item:last-child::after {align-self: flex-start;width: 50%;}#sk-container-id-1 div.sk-parallel-item:only-child::after {width: 0;}#sk-container-id-1 div.sk-dashed-wrapped {border: 1px dashed gray;margin: 0 0.4em 0.5em 0.4em;box-sizing: border-box;padding-bottom: 0.4em;background-color: white;}#sk-container-id-1 div.sk-label label {font-family: monospace;font-weight: bold;display: inline-block;line-height: 1.2em;}#sk-container-id-1 div.sk-label-container {text-align: center;}#sk-container-id-1 div.sk-container {/* jupyter's `normalize.less` sets `[hidden] { display: none; }` but bootstrap.min.css set `[hidden] { display: none !important; }` so we also need the `!important` here to be able to override the default hidden behavior on the sphinx rendered scikit-learn.org. See: https://github.com/scikit-learn/scikit-learn/issues/21755 */display: inline-block !important;position: relative;}#sk-container-id-1 div.sk-text-repr-fallback {display: none;}</style><div id=\"sk-container-id-1\" class=\"sk-top-container\"><div class=\"sk-text-repr-fallback\"><pre>DecisionTreeClassifier()</pre><b>In a Jupyter environment, please rerun this cell to show the HTML representation or trust the notebook. <br />On GitHub, the HTML representation is unable to render, please try loading this page with nbviewer.org.</b></div><div class=\"sk-container\" hidden><div class=\"sk-item\"><div class=\"sk-estimator sk-toggleable\"><input class=\"sk-toggleable__control sk-hidden--visually\" id=\"sk-estimator-id-1\" type=\"checkbox\" checked><label for=\"sk-estimator-id-1\" class=\"sk-toggleable__label sk-toggleable__label-arrow\">DecisionTreeClassifier</label><div class=\"sk-toggleable__content\"><pre>DecisionTreeClassifier()</pre></div></div></div></div></div>"
            ],
            "text/plain": [
              "DecisionTreeClassifier()"
            ]
          },
          "execution_count": 52,
          "metadata": {},
          "output_type": "execute_result"
        }
      ],
      "source": [
        "decision_tree = DecisionTreeClassifier()\n",
        "decision_tree.fit(X_train, y_train)"
      ]
    },
    {
      "cell_type": "code",
      "execution_count": 53,
      "metadata": {},
      "outputs": [],
      "source": [
        "resultado = decision_tree.predict(X_test)"
      ]
    },
    {
      "cell_type": "code",
      "execution_count": 54,
      "metadata": {},
      "outputs": [
        {
          "data": {
            "text/plain": [
              "0.5774647887323944"
            ]
          },
          "execution_count": 54,
          "metadata": {},
          "output_type": "execute_result"
        }
      ],
      "source": [
        "metrics.recall_score(y_test, resultado, average=\"micro\")"
      ]
    },
    {
      "cell_type": "code",
      "execution_count": 55,
      "metadata": {},
      "outputs": [
        {
          "name": "stdout",
          "output_type": "stream",
          "text": [
            "              precision    recall  f1-score   support\n",
            "\n",
            "         1.0       0.90      0.81      0.85        79\n",
            "         2.0       0.27      0.23      0.25        26\n",
            "         3.0       0.34      0.44      0.39        25\n",
            "         4.0       0.06      0.08      0.07        12\n",
            "\n",
            "    accuracy                           0.58       142\n",
            "   macro avg       0.39      0.39      0.39       142\n",
            "weighted avg       0.62      0.58      0.59       142\n",
            "\n"
          ]
        }
      ],
      "source": [
        "print(classification_report(y_test, resultado))"
      ]
    },
    {
      "cell_type": "code",
      "execution_count": 56,
      "metadata": {},
      "outputs": [
        {
          "data": {
            "text/plain": [
              "array([1., 1., 3., 3., 3., 3., 1., 1., 4., 3., 3., 2., 3., 3., 2., 2., 2.,\n",
              "       2., 2., 2., 4., 2., 2., 1., 3., 2., 3., 2., 3., 3., 4., 3., 1., 1.,\n",
              "       1., 1., 1., 1., 1., 1., 1., 1., 1., 1., 1., 1., 1., 1., 1., 1., 1.,\n",
              "       1., 1., 1., 1., 1., 1., 1., 1., 1., 1., 3., 1., 3., 3., 3., 3., 2.,\n",
              "       2., 2., 3., 4., 2., 3., 4., 3., 2., 4., 4., 4., 1., 4., 4., 1., 2.,\n",
              "       1., 1., 1., 1., 1., 1., 1., 1., 1., 1., 1., 1., 1., 1., 1., 1., 1.,\n",
              "       1., 1., 1., 1., 1., 1., 1., 1., 1., 2., 1., 1., 2., 3., 3., 3., 3.,\n",
              "       3., 3., 3., 2., 2., 2., 4., 3., 3., 4., 4., 4., 4., 4., 4., 1., 1.,\n",
              "       1., 1., 1., 3., 1., 3.])"
            ]
          },
          "execution_count": 56,
          "metadata": {},
          "output_type": "execute_result"
        }
      ],
      "source": [
        "resultado"
      ]
    },
    {
      "cell_type": "markdown",
      "metadata": {},
      "source": [
        "# Random Forest"
      ]
    },
    {
      "cell_type": "code",
      "execution_count": 57,
      "metadata": {},
      "outputs": [
        {
          "name": "stdout",
          "output_type": "stream",
          "text": [
            "              precision    recall  f1-score   support\n",
            "\n",
            "         1.0       0.87      0.91      0.89        79\n",
            "         2.0       0.23      0.19      0.21        26\n",
            "         3.0       0.56      0.56      0.56        25\n",
            "         4.0       0.33      0.33      0.33        12\n",
            "\n",
            "    accuracy                           0.67       142\n",
            "   macro avg       0.50      0.50      0.50       142\n",
            "weighted avg       0.65      0.67      0.66       142\n",
            "\n",
            "18 0.6690140845070423\n"
          ]
        }
      ],
      "source": [
        "valores=pd.DataFrame(columns=['indice','porcentagem'])\n",
        "random_forest = RandomForestClassifier(n_estimators=18)\n",
        "random_forest.fit(X_train, y_train)\n",
        "resultado = random_forest.predict(X_test)\n",
        "resultado_porcentagem=metrics.recall_score(y_test, resultado, average=\"micro\")\n",
        "print(classification_report(y_test, resultado))\n",
        "valores.loc[len(valores)] = [18, resultado_porcentagem]\n",
        "print(18,metrics.recall_score(y_test, resultado, average=\"micro\"))"
      ]
    }
  ],
  "metadata": {
    "colab": {
      "provenance": []
    },
    "kernelspec": {
      "display_name": "base",
      "language": "python",
      "name": "python3"
    },
    "language_info": {
      "codemirror_mode": {
        "name": "ipython",
        "version": 3
      },
      "file_extension": ".py",
      "mimetype": "text/x-python",
      "name": "python",
      "nbconvert_exporter": "python",
      "pygments_lexer": "ipython3",
      "version": "3.10.9"
    }
  },
  "nbformat": 4,
  "nbformat_minor": 0
}
